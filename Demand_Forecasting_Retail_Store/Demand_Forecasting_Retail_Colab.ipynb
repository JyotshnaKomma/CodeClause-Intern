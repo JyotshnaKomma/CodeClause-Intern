{
 "cells": [
  {
   "cell_type": "markdown",
   "id": "6f26b5a8",
   "metadata": {},
   "source": [
    "# 🛍️ Demand Forecasting for a Retail Store\n",
    "**CodeClause Internship – Intermediate Level Project**  \n",
    "👩‍💻 *Author: Jyotshna Komma*  \n",
    "📅 *Date: July 29, 2025*  \n",
    "\n",
    "---\n",
    "## 📌 Objective\n",
    "Build a time series forecasting model using historical sales data to predict product demand in a retail store. This helps in inventory optimization, resource planning, and reducing overstock/understock issues."
   ]
  },
  {
   "cell_type": "code",
   "execution_count": null,
   "id": "876bdb57",
   "metadata": {},
   "outputs": [],
   "source": [
    "# 📦 Install necessary libraries (if running in Colab)\n",
    "!pip install pandas matplotlib statsmodels seaborn --quiet"
   ]
  },
  {
   "cell_type": "code",
   "execution_count": null,
   "id": "2f81eb51",
   "metadata": {},
   "outputs": [],
   "source": [
    "# 📚 Import libraries\n",
    "import pandas as pd\n",
    "import numpy as np\n",
    "import matplotlib.pyplot as plt\n",
    "import seaborn as sns\n",
    "from statsmodels.tsa.stattools import adfuller\n",
    "from statsmodels.tsa.arima.model import ARIMA\n",
    "from sklearn.metrics import mean_squared_error\n",
    "import warnings\n",
    "warnings.filterwarnings('ignore')"
   ]
  },
  {
   "cell_type": "markdown",
   "id": "46641dad",
   "metadata": {},
   "source": [
    "## 📁 Step 1: Load and Explore the Dataset\n",
    "Assume we have a CSV file (`sales_data.csv`) with columns like:\n",
    "`Date`, `Sales`.\n",
    "\n",
    "You can replace it with real-world datasets or your own sample."
   ]
  },
  {
   "cell_type": "code",
   "execution_count": null,
   "id": "8abe528f",
   "metadata": {},
   "outputs": [],
   "source": [
    "# Upload CSV if running in Colab\n",
    "from google.colab import files\n",
    "uploaded = files.upload()"
   ]
  },
  {
   "cell_type": "code",
   "execution_count": null,
   "id": "4ba8e09c",
   "metadata": {},
   "outputs": [],
   "source": [
    "# Load the dataset\n",
    "df = pd.read_csv('sales_data.csv', parse_dates=['Date'], index_col='Date')\n",
    "df.head()"
   ]
  },
  {
   "cell_type": "markdown",
   "id": "baf49d38",
   "metadata": {},
   "source": [
    "## 📊 Step 2: Visualize & Understand Trends"
   ]
  },
  {
   "cell_type": "code",
   "execution_count": null,
   "id": "8d15c28c",
   "metadata": {},
   "outputs": [],
   "source": [
    "plt.figure(figsize=(12, 6))\n",
    "plt.plot(df['Sales'], label='Sales Over Time')\n",
    "plt.title('Sales Trend')\n",
    "plt.xlabel('Date')\n",
    "plt.ylabel('Sales')\n",
    "plt.legend()\n",
    "plt.show()"
   ]
  },
  {
   "cell_type": "markdown",
   "id": "aa2ebc89",
   "metadata": {},
   "source": [
    "## 📉 Step 3: Stationarity Check using ADF Test"
   ]
  },
  {
   "cell_type": "code",
   "execution_count": null,
   "id": "3b3ebb0f",
   "metadata": {},
   "outputs": [],
   "source": [
    "result = adfuller(df['Sales'])\n",
    "print('ADF Statistic:', result[0])\n",
    "print('p-value:', result[1])"
   ]
  },
  {
   "cell_type": "markdown",
   "id": "d764b918",
   "metadata": {},
   "source": [
    "## 🔧 Step 4: Differencing to Make Series Stationary (if needed)"
   ]
  },
  {
   "cell_type": "code",
   "execution_count": null,
   "id": "def45969",
   "metadata": {},
   "outputs": [],
   "source": [
    "df_diff = df['Sales'].diff().dropna()\n",
    "plt.plot(df_diff)\n",
    "plt.title('First Difference of Sales')\n",
    "plt.show()"
   ]
  },
  {
   "cell_type": "markdown",
   "id": "ff0bb0dc",
   "metadata": {},
   "source": [
    "## 🔮 Step 5: Fit ARIMA Model and Forecast"
   ]
  },
  {
   "cell_type": "code",
   "execution_count": null,
   "id": "f3791a37",
   "metadata": {},
   "outputs": [],
   "source": [
    "model = ARIMA(df['Sales'], order=(1,1,1))\n",
    "model_fit = model.fit()\n",
    "forecast = model_fit.forecast(steps=12)\n",
    "print(forecast)"
   ]
  },
  {
   "cell_type": "markdown",
   "id": "7bef1c77",
   "metadata": {},
   "source": [
    "## 📈 Step 6: Visualize Forecast"
   ]
  },
  {
   "cell_type": "code",
   "execution_count": null,
   "id": "86961703",
   "metadata": {},
   "outputs": [],
   "source": [
    "plt.figure(figsize=(10,5))\n",
    "plt.plot(df['Sales'], label='Historical Sales')\n",
    "plt.plot(pd.date_range(df.index[-1], periods=13, freq='M')[1:], forecast, label='Forecast')\n",
    "plt.legend()\n",
    "plt.title('Forecasted Sales')\n",
    "plt.show()"
   ]
  },
  {
   "cell_type": "markdown",
   "id": "ce5fe575",
   "metadata": {},
   "source": [
    "## ✅ Conclusion\n",
    "- Built a time series model using ARIMA.\n",
    "- Forecasted next 12 months of retail demand.\n",
    "- This model can be tuned further using SARIMA and tested on multivariate data for advanced use cases.\n",
    "\n",
    "**Next Steps:** Hyperparameter tuning, comparing models (SARIMA, Prophet), and automation."
   ]
  }
 ],
 "metadata": {},
 "nbformat": 4,
 "nbformat_minor": 5
}
